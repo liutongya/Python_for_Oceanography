{
 "cells": [
  {
   "cell_type": "markdown",
   "metadata": {
    "internals": {
     "slide_helper": "subslide_end",
     "slide_type": "subslide"
    },
    "slide_helper": "slide_end",
    "slideshow": {
     "slide_type": "slide"
    }
   },
   "source": [
    "- requires [numpy](http://numpy.scipy.org) and netCDF/HDF5 C libraries.\n",
    "- Online docs: http://unidata.github.io/netcdf4-python/\n",
    "- Based on Konrad Hinsen's old [Scientific.IO.NetCDF](http://dirac.cnrs-orleans.fr/plone/software/scientificpython/) API, with lots of added netcdf version 4 features.\n",
    "- Heavily based on Jeff Whitaker's [Reading/Writing netCDF] (https://github.com/Unidata/netcdf4-python/tree/master/examples).\n",
    "\n",
    "# Reading netCDF data"
   ]
  },
  {
   "cell_type": "markdown",
   "metadata": {
    "internals": {
     "slide_type": "subslide"
    },
    "slideshow": {
     "slide_type": "slide"
    }
   },
   "source": [
    "## Interactively exploring a netCDF File\n",
    "\n",
    "first, import netcdf4-python and numpy"
   ]
  },
  {
   "cell_type": "code",
   "execution_count": 1,
   "metadata": {
    "internals": {
     "frag_number": 2,
     "slide_helper": "subslide_end"
    },
    "slide_helper": "slide_end",
    "slideshow": {
     "slide_type": "fragment"
    }
   },
   "outputs": [],
   "source": [
    "import netCDF4\n",
    "import numpy as np"
   ]
  },
  {
   "cell_type": "markdown",
   "metadata": {
    "internals": {
     "frag_helper": "fragment_end",
     "frag_number": 2,
     "slide_type": "subslide"
    },
    "slideshow": {
     "slide_type": "slide"
    }
   },
   "source": [
    "## Create a netCDF4.Dataset object\n",
    "- **`f`** is a `Dataset` object, representing an open netCDF file.\n",
    "- printing the object gives you summary information, similar to *`ncdump -h`*."
   ]
  },
  {
   "cell_type": "code",
   "execution_count": 2,
   "metadata": {
    "internals": {
     "frag_helper": "fragment_end",
     "frag_number": 4,
     "slide_helper": "subslide_end"
    },
    "slide_helper": "slide_end",
    "slideshow": {
     "slide_type": "fragment"
    }
   },
   "outputs": [
    {
     "name": "stdout",
     "output_type": "stream",
     "text": [
      "<class 'netCDF4._netCDF4.Dataset'>\n",
      "root group (NETCDF3_CLASSIC data model, file format NETCDF3):\n",
      "    dimensions(sizes): X(360), T(348), Y(181)\n",
      "    variables(dimensions): float32 \u001b[4mX\u001b[0m(X), float32 \u001b[4mT\u001b[0m(T), float32 \u001b[4mY\u001b[0m(Y), float32 \u001b[4msst\u001b[0m(T,Y,X)\n",
      "    groups: \n",
      "\n"
     ]
    }
   ],
   "source": [
    "f = netCDF4.Dataset('../OISST/OISST_1982-2010.nc', 'r')\n",
    "print(f) "
   ]
  },
  {
   "cell_type": "markdown",
   "metadata": {
    "internals": {
     "frag_helper": "fragment_end",
     "frag_number": 4,
     "slide_type": "subslide"
    },
    "slideshow": {
     "slide_type": "slide"
    }
   },
   "source": [
    "## List the netCDF variable\n",
    "- variable objects stored by name in **`variables`** dict.\n",
    "- print the variable yields summary info (including all the attributes).\n",
    "- no actual data read yet (just have a reference to the variable object with metadata)."
   ]
  },
  {
   "cell_type": "code",
   "execution_count": 3,
   "metadata": {
    "internals": {
     "frag_helper": "fragment_end",
     "frag_number": 6,
     "slide_helper": "subslide_end"
    },
    "slide_helper": "slide_end",
    "slideshow": {
     "slide_type": "fragment"
    }
   },
   "outputs": [
    {
     "name": "stdout",
     "output_type": "stream",
     "text": [
      "odict_keys(['X', 'T', 'Y', 'sst'])\n"
     ]
    }
   ],
   "source": [
    "print(f.variables.keys()) # get all variable keys"
   ]
  },
  {
   "cell_type": "code",
   "execution_count": 4,
   "metadata": {},
   "outputs": [
    {
     "data": {
      "text/plain": [
       "<class 'netCDF4._netCDF4.Variable'>\n",
       "float32 sst(T, Y, X)\n",
       "    calendar: standard\n",
       "    process: 44\n",
       "    gribleveltype: 1\n",
       "    subcenter: 4\n",
       "    gribcenter: 160\n",
       "    PDS_TimeRange: 1\n",
       "    center: 160\n",
       "    standard_name: Sea Surface Temperature\n",
       "    gribNumBits: 12\n",
       "    grib_name: TMP\n",
       "    long_name: Sea Surface Temperature\n",
       "    gribparam: 11\n",
       "    GRIBgridcode: 3\n",
       "    PTVersion: 2\n",
       "    gribfield: 1\n",
       "    units: Celsius_scale\n",
       "unlimited dimensions: \n",
       "current shape = (348, 181, 360)\n",
       "filling on, default _FillValue of 9.969209968386869e+36 used"
      ]
     },
     "execution_count": 4,
     "metadata": {},
     "output_type": "execute_result"
    }
   ],
   "source": [
    "sst = f.variables['sst']\n",
    "sst"
   ]
  },
  {
   "cell_type": "markdown",
   "metadata": {
    "internals": {
     "frag_helper": "fragment_end",
     "frag_number": 6,
     "slide_type": "subslide"
    },
    "slideshow": {
     "slide_type": "slide"
    }
   },
   "source": [
    "## List the Dimensions\n",
    "\n",
    "- dimension objects stored by name in **`dimensions`** dict."
   ]
  },
  {
   "cell_type": "code",
   "execution_count": 5,
   "metadata": {
    "internals": {
     "frag_helper": "fragment_end",
     "frag_number": 8
    },
    "slideshow": {
     "slide_type": "fragment"
    }
   },
   "outputs": [
    {
     "data": {
      "text/plain": [
       "OrderedDict([('X',\n",
       "              <class 'netCDF4._netCDF4.Dimension'>: name = 'X', size = 360),\n",
       "             ('T',\n",
       "              <class 'netCDF4._netCDF4.Dimension'>: name = 'T', size = 348),\n",
       "             ('Y',\n",
       "              <class 'netCDF4._netCDF4.Dimension'>: name = 'Y', size = 181)])"
      ]
     },
     "execution_count": 5,
     "metadata": {},
     "output_type": "execute_result"
    }
   ],
   "source": [
    "f.dimensions"
   ]
  },
  {
   "cell_type": "markdown",
   "metadata": {
    "internals": {
     "frag_helper": "fragment_end",
     "frag_number": 9
    },
    "slideshow": {
     "slide_type": "fragment"
    }
   },
   "source": [
    "Each variable has a **`dimensions`** and a **`shape`** attribute."
   ]
  },
  {
   "cell_type": "code",
   "execution_count": 6,
   "metadata": {
    "internals": {
     "frag_helper": "fragment_end",
     "frag_number": 10
    },
    "slideshow": {
     "slide_type": "fragment"
    }
   },
   "outputs": [
    {
     "data": {
      "text/plain": [
       "('T', 'Y', 'X')"
      ]
     },
     "execution_count": 6,
     "metadata": {},
     "output_type": "execute_result"
    }
   ],
   "source": [
    "sst.dimensions"
   ]
  },
  {
   "cell_type": "code",
   "execution_count": 7,
   "metadata": {
    "internals": {
     "frag_helper": "fragment_end",
     "frag_number": 11,
     "slide_helper": "subslide_end"
    },
    "slide_helper": "slide_end",
    "slideshow": {
     "slide_type": "fragment"
    }
   },
   "outputs": [
    {
     "data": {
      "text/plain": [
       "(348, 181, 360)"
      ]
     },
     "execution_count": 7,
     "metadata": {},
     "output_type": "execute_result"
    }
   ],
   "source": [
    "sst.shape"
   ]
  },
  {
   "cell_type": "markdown",
   "metadata": {
    "internals": {
     "frag_helper": "fragment_end",
     "frag_number": 11,
     "slide_type": "subslide"
    },
    "slideshow": {
     "slide_type": "slide"
    }
   },
   "source": [
    "### Each dimension typically has a variable associated with it (called a *coordinate* variable).\n",
    "- *Coordinate variables* are 1D variables that have the same name as dimensions.\n",
    "- Coordinate variables and *auxiliary coordinate variables* (named by the *coordinates* attribute) locate values in time and space."
   ]
  },
  {
   "cell_type": "code",
   "execution_count": 8,
   "metadata": {
    "internals": {
     "frag_helper": "fragment_end",
     "frag_number": 13,
     "slide_helper": "subslide_end"
    },
    "slide_helper": "slide_end",
    "slideshow": {
     "slide_type": "fragment"
    }
   },
   "outputs": [
    {
     "name": "stdout",
     "output_type": "stream",
     "text": [
      "<class 'netCDF4._netCDF4.Variable'>\n",
      "float32 X(X)\n",
      "    standard_name: longitude\n",
      "    pointwidth: 1.0\n",
      "    gridtype: 1\n",
      "    units: degree_east\n",
      "unlimited dimensions: \n",
      "current shape = (360,)\n",
      "filling on, default _FillValue of 9.969209968386869e+36 used\n",
      " <class 'netCDF4._netCDF4.Variable'>\n",
      "float32 Y(Y)\n",
      "    standard_name: latitude\n",
      "    pointwidth: 1.0\n",
      "    gridtype: 0\n",
      "    units: degree_north\n",
      "unlimited dimensions: \n",
      "current shape = (181,)\n",
      "filling on, default _FillValue of 9.969209968386869e+36 used\n",
      "\n"
     ]
    }
   ],
   "source": [
    "lons,lats = f.variables['X'], f.variables['Y']\n",
    "print(lons, lats)                 "
   ]
  },
  {
   "cell_type": "markdown",
   "metadata": {
    "internals": {
     "frag_helper": "fragment_end",
     "frag_number": 13,
     "slide_type": "subslide"
    },
    "slideshow": {
     "slide_type": "slide"
    }
   },
   "source": [
    "## Accessing data from a netCDF variable object\n",
    "\n",
    "- netCDF variables objects behave much like numpy arrays.\n",
    "- slicing a netCDF variable object returns a numpy array with the data.\n",
    "- Boolean array and integer sequence indexing behaves differently for netCDF variables than for numpy arrays. Only 1-d boolean arrays and integer sequences are allowed, and these indices work independently along each dimension (similar to the way vector subscripts work in fortran)."
   ]
  },
  {
   "cell_type": "code",
   "execution_count": 9,
   "metadata": {
    "internals": {
     "frag_helper": "fragment_end",
     "frag_number": 15
    },
    "slideshow": {
     "slide_type": "fragment"
    }
   },
   "outputs": [
    {
     "data": {
      "text/plain": [
       "(348, 181, 360)"
      ]
     },
     "execution_count": 9,
     "metadata": {},
     "output_type": "execute_result"
    }
   ],
   "source": [
    "sst.shape"
   ]
  },
  {
   "cell_type": "code",
   "execution_count": 10,
   "metadata": {
    "internals": {
     "frag_helper": "fragment_end",
     "frag_number": 17,
     "slide_helper": "subslide_end"
    },
    "slide_helper": "slide_end",
    "slideshow": {
     "slide_type": "fragment"
    }
   },
   "outputs": [
    {
     "data": {
      "text/plain": [
       "masked_array(\n",
       "  data=[[-1.72998046875, -1.72998046875, -1.72998046875, ...,\n",
       "         -1.72998046875, -1.72998046875, -1.72998046875],\n",
       "        [-1.709991455078125, -1.709991455078125, -1.709991455078125, ...,\n",
       "         -1.720001220703125, -1.709991455078125, -1.709991455078125],\n",
       "        [-1.67999267578125, -1.67999267578125, -1.67999267578125, ...,\n",
       "         -1.67999267578125, -1.67999267578125, -1.67999267578125],\n",
       "        ...,\n",
       "        [-1.79998779296875, -1.79998779296875, -1.79998779296875, ...,\n",
       "         -1.79998779296875, -1.79998779296875, -1.79998779296875],\n",
       "        [-1.79998779296875, -1.79998779296875, -1.79998779296875, ...,\n",
       "         -1.79998779296875, -1.79998779296875, -1.79998779296875],\n",
       "        [-1.79998779296875, -1.79998779296875, -1.79998779296875, ...,\n",
       "         -1.79998779296875, -1.79998779296875, -1.79998779296875]],\n",
       "  mask=[[False, False, False, ..., False, False, False],\n",
       "        [False, False, False, ..., False, False, False],\n",
       "        [False, False, False, ..., False, False, False],\n",
       "        ...,\n",
       "        [False, False, False, ..., False, False, False],\n",
       "        [False, False, False, ..., False, False, False],\n",
       "        [False, False, False, ..., False, False, False]],\n",
       "  fill_value=9.96921e+36,\n",
       "  dtype=float32)"
      ]
     },
     "execution_count": 10,
     "metadata": {},
     "output_type": "execute_result"
    }
   ],
   "source": [
    "sst[0, :, :]"
   ]
  },
  {
   "cell_type": "code",
   "execution_count": 11,
   "metadata": {
    "internals": {
     "frag_helper": "fragment_end",
     "frag_number": 31
    },
    "slideshow": {
     "slide_type": "fragment"
    }
   },
   "outputs": [
    {
     "name": "stdout",
     "output_type": "stream",
     "text": [
      "shape= (181, 360) , type= <class 'numpy.ma.core.MaskedArray'>\n"
     ]
    },
    {
     "data": {
      "text/plain": [
       "<matplotlib.colorbar.Colorbar at 0x7f7b390>"
      ]
     },
     "execution_count": 11,
     "metadata": {},
     "output_type": "execute_result"
    },
    {
     "data": {
      "image/png": "[encoded data removed]",
      "text/plain": [
       "<Figure size 432x288 with 2 Axes>"
      ]
     },
     "metadata": {},
     "output_type": "display_data"
    }
   ],
   "source": [
    "sst_avg = sst[:].mean(axis=0)\n",
    "print('shape=', sst_avg.shape, ', type=', type(sst_avg))\n",
    "\n",
    "import matplotlib.pyplot as plt\n",
    "%matplotlib inline\n",
    "cs = plt.contourf(sst_avg)\n",
    "plt.colorbar()"
   ]
  },
  {
   "cell_type": "markdown",
   "metadata": {
    "internals": {
     "frag_helper": "fragment_end",
     "frag_number": 25,
     "slide_type": "subslide"
    },
    "slideshow": {
     "slide_type": "slide"
    }
   },
   "source": [
    "## *Remote data access via openDAP\n",
    "\n",
    "- Remote data can be accessed seamlessly with the netcdf4-python API\n",
    "- Access happens via the DAP protocol and DAP servers, such as TDS.\n",
    "- many formats supported, like GRIB, are supported \"under the hood\"."
   ]
  },
  {
   "cell_type": "markdown",
   "metadata": {
    "internals": {
     "frag_helper": "fragment_end",
     "frag_number": 27
    },
    "slideshow": {
     "slide_type": "fragment"
    }
   },
   "source": [
    "The following example showcases some nice netCDF features:\n",
    "\n",
    "1. We are seamlessly accessing **remote** data, from a TDS server.\n",
    "2. We are seamlessly accessing **GRIB2** data, as if it were netCDF data.\n",
    "3. We are generating **metadata** on-the-fly."
   ]
  },
  {
   "cell_type": "code",
   "execution_count": 12,
   "metadata": {
    "internals": {
     "frag_helper": "fragment_end",
     "frag_number": 28,
     "slide_helper": "subslide_end"
    },
    "slide_helper": "slide_end",
    "slideshow": {
     "slide_type": "fragment"
    }
   },
   "outputs": [
    {
     "name": "stdout",
     "output_type": "stream",
     "text": [
      "http://thredds.ucar.edu/thredds/dodsC/grib/NCEP/GFS/Global_0p5deg/GFS_Global_0p5deg_20180819_1200.grib2/GC\n"
     ]
    }
   ],
   "source": [
    "import datetime\n",
    "date = datetime.datetime.now()\n",
    "# build URL for latest synoptic analysis time\n",
    "URL = 'http://thredds.ucar.edu/thredds/dodsC/grib/NCEP/GFS/Global_0p5deg/GFS_Global_0p5deg_%04i%02i%02i_%02i%02i.grib2/GC' %\\\n",
    "(date.year,date.month,date.day-2,6*(date.hour//6),0)\n",
    "# keep moving back 6 hours until a valid URL found\n",
    "validURL = False; ncount = 0\n",
    "while (not validURL and ncount < 10):\n",
    "    print(URL)\n",
    "    try:\n",
    "        gfs = netCDF4.Dataset(URL)\n",
    "        validURL = True\n",
    "    except RuntimeError:\n",
    "        date -= datetime.timedelta(hours=6)\n",
    "        ncount += 1       "
   ]
  },
  {
   "cell_type": "code",
   "execution_count": 13,
   "metadata": {
    "internals": {
     "frag_helper": "fragment_end",
     "frag_number": 28,
     "slide_helper": "subslide_end",
     "slide_type": "subslide"
    },
    "slide_helper": "slide_end",
    "slideshow": {
     "slide_type": "slide"
    }
   },
   "outputs": [
    {
     "name": "stdout",
     "output_type": "stream",
     "text": [
      "<class 'netCDF4._netCDF4.Variable'>\n",
      "float32 Temperature_surface(time1, lat, lon)\n",
      "    long_name: Temperature @ Ground or water surface\n",
      "    units: K\n",
      "    abbreviation: TMP\n",
      "    missing_value: nan\n",
      "    grid_mapping: LatLon_Projection\n",
      "    coordinates: reftime time1 lat lon \n",
      "    Grib_Variable_Id: VAR_0-0-0_L1\n",
      "    Grib2_Parameter: [0 0 0]\n",
      "    Grib2_Parameter_Discipline: Meteorological products\n",
      "    Grib2_Parameter_Category: Temperature\n",
      "    Grib2_Parameter_Name: Temperature\n",
      "    Grib2_Level_Type: 1\n",
      "    Grib2_Level_Desc: Ground or water surface\n",
      "    Grib2_Generating_Process_Type: Forecast\n",
      "unlimited dimensions: \n",
      "current shape = (93, 361, 720)\n",
      "filling off\n",
      "\n",
      "<class 'netCDF4._netCDF4.Variable'>\n",
      "float64 time1(time1)\n",
      "    units: Hour since 2018-08-19T12:00:00Z\n",
      "    standard_name: time\n",
      "    long_name: GRIB forecast or observation time\n",
      "    calendar: proleptic_gregorian\n",
      "    _CoordinateAxisType: Time\n",
      "unlimited dimensions: \n",
      "current shape = (93,)\n",
      "filling off\n",
      "\n",
      "<class 'netCDF4._netCDF4.Variable'>\n",
      "float32 lat(lat)\n",
      "    units: degrees_north\n",
      "    _CoordinateAxisType: Lat\n",
      "unlimited dimensions: \n",
      "current shape = (361,)\n",
      "filling off\n",
      "\n",
      "<class 'netCDF4._netCDF4.Variable'>\n",
      "float32 lon(lon)\n",
      "    units: degrees_east\n",
      "    _CoordinateAxisType: Lon\n",
      "unlimited dimensions: \n",
      "current shape = (720,)\n",
      "filling off\n",
      "\n"
     ]
    }
   ],
   "source": [
    "# Look at metadata for a specific variable\n",
    "# gfs.variables.keys() will show all available variables.\n",
    "sfctmp = gfs.variables['Temperature_surface']\n",
    "# get info about sfctmp\n",
    "print(sfctmp)\n",
    "# print coord vars associated with this variable\n",
    "for dname in sfctmp.dimensions:   \n",
    "    print(gfs.variables[dname])"
   ]
  },
  {
   "cell_type": "markdown",
   "metadata": {
    "internals": {
     "frag_helper": "fragment_end",
     "frag_number": 32,
     "slide_type": "subslide"
    },
    "slideshow": {
     "slide_type": "slide"
    }
   },
   "source": [
    "## *Dealing with dates and times\n",
    "- time variables usually measure relative to a fixed date using a certain calendar, with units specified like ***`hours since YY:MM:DD hh-mm-ss`***.\n",
    "- **`num2date`** and **`date2num`** convenience functions provided to convert between these numeric time coordinates and handy python datetime instances.  \n",
    "- **`date2index`** finds the time index corresponding to a datetime instance."
   ]
  },
  {
   "cell_type": "code",
   "execution_count": 14,
   "metadata": {
    "internals": {
     "frag_helper": "fragment_end",
     "frag_number": 34
    },
    "slideshow": {
     "slide_type": "fragment"
    }
   },
   "outputs": [
    {
     "name": "stdout",
     "output_type": "stream",
     "text": [
      "name of time dimension = time1\n",
      "<class 'netCDF4._netCDF4.Variable'>\n",
      "float64 time1(time1)\n",
      "    units: Hour since 2018-08-19T12:00:00Z\n",
      "    standard_name: time\n",
      "    long_name: GRIB forecast or observation time\n",
      "    calendar: proleptic_gregorian\n",
      "    _CoordinateAxisType: Time\n",
      "unlimited dimensions: \n",
      "current shape = (93,)\n",
      "filling off\n",
      "\n"
     ]
    }
   ],
   "source": [
    "from netCDF4 import num2date, date2num, date2index\n",
    "timedim = sfctmp.dimensions[0] # time dim name\n",
    "print('name of time dimension = %s' % timedim)\n",
    "times = gfs.variables[timedim] # time coord var\n",
    "print(times)"
   ]
  },
  {
   "cell_type": "code",
   "execution_count": 15,
   "metadata": {
    "internals": {
     "frag_helper": "fragment_end",
     "frag_number": 35,
     "slide_helper": "subslide_end"
    },
    "slide_helper": "slide_end",
    "slideshow": {
     "slide_type": "fragment"
    }
   },
   "outputs": [
    {
     "name": "stdout",
     "output_type": "stream",
     "text": [
      "['2018-08-19 12:00:00', '2018-08-19 15:00:00', '2018-08-19 18:00:00', '2018-08-19 21:00:00', '2018-08-20 00:00:00', '2018-08-20 03:00:00', '2018-08-20 06:00:00', '2018-08-20 09:00:00', '2018-08-20 12:00:00', '2018-08-20 15:00:00']\n"
     ]
    }
   ],
   "source": [
    "dates = num2date(times[:], times.units)\n",
    "print([date.strftime('%Y-%m-%d %H:%M:%S') for date in dates[:10]]) # print only first ten..."
   ]
  },
  {
   "cell_type": "markdown",
   "metadata": {
    "internals": {
     "frag_helper": "fragment_end",
     "frag_number": 35,
     "slide_type": "subslide"
    },
    "slideshow": {
     "slide_type": "slide"
    }
   },
   "source": [
    "### Get index associated with a specified date, extract forecast data for that date."
   ]
  },
  {
   "cell_type": "code",
   "execution_count": 16,
   "metadata": {
    "internals": {
     "frag_helper": "fragment_end",
     "frag_number": 37
    },
    "slideshow": {
     "slide_type": "fragment"
    }
   },
   "outputs": [
    {
     "name": "stdout",
     "output_type": "stream",
     "text": [
      "2018-08-24 16:35:08.549876\n",
      "index = 42, date = 2018-08-24 18:00:00\n"
     ]
    }
   ],
   "source": [
    "from datetime import datetime, timedelta\n",
    "date = datetime.now() + timedelta(days=3)\n",
    "print(date)\n",
    "ntime = date2index(date,times,select='nearest')\n",
    "print('index = %s, date = %s' % (ntime, dates[ntime]))"
   ]
  },
  {
   "cell_type": "markdown",
   "metadata": {
    "internals": {
     "frag_helper": "fragment_end",
     "frag_number": 43,
     "slide_type": "subslide"
    },
    "slideshow": {
     "slide_type": "slide"
    }
   },
   "source": [
    "## Closing your netCDF file\n",
    "\n",
    "It's good to close netCDF files, but not actually necessary when Dataset is open for read access only.\n"
   ]
  },
  {
   "cell_type": "code",
   "execution_count": 17,
   "metadata": {
    "internals": {
     "frag_helper": "fragment_end",
     "frag_number": 45
    },
    "slideshow": {
     "slide_type": "fragment"
    }
   },
   "outputs": [],
   "source": [
    "f.close()\n",
    "gfs.close()"
   ]
  },
  {
   "cell_type": "markdown",
   "metadata": {
    "internals": {
     "frag_helper": "fragment_end",
     "frag_number": 45,
     "slide_helper": "subslide_end"
    },
    "slide_helper": "slide_end",
    "slideshow": {
     "slide_type": "-"
    }
   },
   "source": [
    "# Writing netCDF data\n"
   ]
  },
  {
   "cell_type": "markdown",
   "metadata": {},
   "source": [
    "## Opening a file, creating a new Dataset\n",
    "\n",
    "Let's create a new, empty netCDF file named `../OISST/sample_nc_file.nc`, opened for writing.\n",
    "\n",
    "Be careful, opening a file with`'w'` will clobber any existing data (unless `clobber=False` is used, in which case an exception is raised if the file already exists).\n",
    "\n",
    "- `mode='r'` is the default.\n",
    "- `mode='a'` opens an existing file and allows for appending (does not clobber existing data)\n",
    "- `format` can be one of `NETCDF3_CLASSIC`, `NETCDF3_64BIT`, `NETCDF4_CLASSIC` or `NETCDF4` (default). `NETCDF4_CLASSIC` uses HDF5 for the underlying storage layer (as does `NETCDF4`) but enforces the classic netCDF 3 data model so data can be read with older clients.  "
   ]
  },
  {
   "cell_type": "code",
   "execution_count": 18,
   "metadata": {},
   "outputs": [
    {
     "name": "stdout",
     "output_type": "stream",
     "text": [
      "<class 'netCDF4._netCDF4.Dataset'>\n",
      "root group (NETCDF4_CLASSIC data model, file format HDF5):\n",
      "    dimensions(sizes): \n",
      "    variables(dimensions): \n",
      "    groups: \n",
      "\n"
     ]
    }
   ],
   "source": [
    "nc_file = netCDF4.Dataset('../OISST/sample_nc_file.nc',mode='w',format='NETCDF4_CLASSIC') \n",
    "print(nc_file)"
   ]
  },
  {
   "cell_type": "markdown",
   "metadata": {},
   "source": [
    "## Creating global attributes\n",
    "\n",
    "The **nc_file** object we created is a container for _dimensions_, _variables_, and _attributes_.   First, let's create some global attribtes.\n",
    "\n",
    "netCDF attributes can be created just like you would for any python object. \n",
    "\n",
    "- Best to adhere to established conventions (like the [CF](http://cfconventions.org/) conventions)\n",
    "- We won't try to adhere to any specific convention here though."
   ]
  },
  {
   "cell_type": "code",
   "execution_count": 19,
   "metadata": {},
   "outputs": [
    {
     "name": "stdout",
     "output_type": "stream",
     "text": [
      "<class 'netCDF4._netCDF4.Dataset'>\n",
      "root group (NETCDF4_CLASSIC data model, file format HDF5):\n",
      "    description: this is just a netCDF smaple file.\n",
      "    created time: 2018-08-21 16:35:08.683884\n",
      "    version: 1.0\n",
      "    dimensions(sizes): \n",
      "    variables(dimensions): \n",
      "    groups: \n",
      "\n"
     ]
    }
   ],
   "source": [
    "nc_file.setncattr(name=\"description\", value=\"this is just a netCDF smaple file.\")\n",
    "nc_file.setncattr(\"created time\", str(date.today()))\n",
    "nc_file.version = \"1.0\"\n",
    "print(nc_file)"
   ]
  },
  {
   "cell_type": "markdown",
   "metadata": {},
   "source": [
    "## Creating dimensions\n",
    "\n",
    "dimensions should be created using the [`createDimension`](http://unidata.github.io/netcdf4-python/netCDF4.Dataset-class.html#createDimension) method.  \n",
    "\n",
    "- Every dimension has a name and a length.  \n",
    "- The name is a string that is used to specify the dimension to be used when creating a variable, and as a key to access the dimension object in the `nc_file.dimensions` dictionary.\n",
    "\n",
    "Setting the dimension length to `0` or `None` makes it unlimited, so it can grow. \n",
    "\n",
    "- For `NETCDF4` files, any variable's dimension can be unlimited.  \n",
    "- For `NETCDF4_CLASSIC` and `NETCDF3*` files, only one per variable can be unlimited, and it must be the leftmost (fastest varying) dimension."
   ]
  },
  {
   "cell_type": "code",
   "execution_count": 20,
   "metadata": {},
   "outputs": [
    {
     "name": "stdout",
     "output_type": "stream",
     "text": [
      "OrderedDict([('lat', <class 'netCDF4._netCDF4.Dimension'>: name = 'lat', size = 181\n",
      "), ('lon', <class 'netCDF4._netCDF4.Dimension'>: name = 'lon', size = 360\n",
      "), ('time', <class 'netCDF4._netCDF4.Dimension'> (unlimited): name = 'time', size = 0\n",
      ")])\n"
     ]
    }
   ],
   "source": [
    "lat_dim = nc_file.createDimension('lat', 181)     # latitude axis\n",
    "lon_dim = nc_file.createDimension('lon', 360)    # longitude axis\n",
    "time_dim = nc_file.createDimension('time', None) # unlimited axis (can be appended to).\n",
    "print(nc_file.dimensions)"
   ]
  },
  {
   "cell_type": "markdown",
   "metadata": {},
   "source": [
    "## Creating variables\n",
    "\n",
    "Now let's add some variables and store some data in them.  \n",
    "\n",
    "- A variable has a name, a type, a shape, and some data values.  \n",
    "- The shape of a variable is specified by a tuple of dimension names.  \n",
    "- A variable should also have some named attributes, such as 'units', that describe the data.\n",
    "\n",
    "The [`createVariable`](http://unidata.github.io/netcdf4-python/netCDF4.Dataset-class.html#createVariable) method takes 3 mandatory args.\n",
    "\n",
    "- the 1st argument is the variable name (a string). This is used as the key to access the variable object from the `variables` dictionary.\n",
    "- the 2nd argument is the datatype (most numpy datatypes supported).  \n",
    "- the third argument is a tuple containing the dimension names (the dimensions must be created first).  Unless this is a `NETCDF4` file, any unlimited dimension must be the leftmost one.\n",
    "- there are lots of optional arguments (many of which are only relevant when `format='NETCDF4'`) to control compression, chunking, fill_value, etc.\n"
   ]
  },
  {
   "cell_type": "code",
   "execution_count": 21,
   "metadata": {},
   "outputs": [
    {
     "name": "stdout",
     "output_type": "stream",
     "text": [
      "<class 'netCDF4._netCDF4.Variable'>\n",
      "float64 temperature(time, lat, lon)\n",
      "    units: Celsius Degree\n",
      "unlimited dimensions: time\n",
      "current shape = (0, 181, 360)\n",
      "filling on, default _FillValue of 9.969209968386869e+36 used\n",
      "\n"
     ]
    }
   ],
   "source": [
    "# create variables.\n",
    "latitude = nc_file.createVariable('latitude', 'f4', ('lat'))\n",
    "latitude.units = 'degrees_north'\n",
    "latitude.long_name = 'latitude'\n",
    "longitude = nc_file.createVariable('longitude', 'f4', ('lon'))\n",
    "longitude.units = 'degrees_east'\n",
    "longitude.long_name = 'longitude'\n",
    "time = nc_file.createVariable('time', 'i4', ('time',))\n",
    "time.units = 'month since 1800-01-01'\n",
    "time.long_name = 'time'\n",
    "# Define a 3D variable to hold the data\n",
    "temp = nc_file.createVariable('temperature','f8',('time','lat','lon')) # note: unlimited dimension is leftmost\n",
    "temp.units = 'Celsius Degree' # degrees Kelvin\n",
    "print(temp)"
   ]
  },
  {
   "cell_type": "markdown",
   "metadata": {},
   "source": [
    "## Pre-defined variable attributes (read only)\n",
    "\n",
    "The netCDF4 module provides some useful pre-defined Python attributes for netCDF variables, such as dimensions, shape, dtype, ndim. \n",
    "\n",
    "Note: since no data has been written yet, the length of the 'time' dimension is 0."
   ]
  },
  {
   "cell_type": "code",
   "execution_count": 22,
   "metadata": {},
   "outputs": [
    {
     "name": "stdout",
     "output_type": "stream",
     "text": [
      "-- Some pre-defined attributes for variable temp:\n",
      "temp.dimensions: ('time', 'lat', 'lon')\n",
      "temp.shape: (0, 181, 360)\n",
      "temp.dtype: float64\n",
      "temp.ndim: 3\n"
     ]
    }
   ],
   "source": [
    "print(\"-- Some pre-defined attributes for variable temp:\")\n",
    "print(\"temp.dimensions:\", temp.dimensions)\n",
    "print(\"temp.shape:\", temp.shape)\n",
    "print(\"temp.dtype:\", temp.dtype)\n",
    "print(\"temp.ndim:\", temp.ndim)"
   ]
  },
  {
   "cell_type": "markdown",
   "metadata": {},
   "source": [
    "## Writing data into the created variables\n",
    "\n",
    "To write data into a netCDF variable object, just treat it like a numpy array and assign values to a slice."
   ]
  },
  {
   "cell_type": "code",
   "execution_count": 23,
   "metadata": {},
   "outputs": [
    {
     "name": "stdout",
     "output_type": "stream",
     "text": [
      "-- Wrote data, temp.shape is now  (3, 181, 360)\n",
      "-- Min/Max values: -29.999360456847143 29.999837911774\n"
     ]
    }
   ],
   "source": [
    "nlats = len(lat_dim); nlons = len(lon_dim); ntimes = 3\n",
    "# Write latitudes, longitudes.\n",
    "# Note: the \":\" is necessary in these \"write\" statements\n",
    "latitude[:] = -90. + (180./nlats)*np.arange(nlats) # south pole to north pole\n",
    "longitude[:] = (180./nlats)*np.arange(nlons) # Greenwich meridian eastward\n",
    "# create a 3D array of random numbers\n",
    "data_arr = np.random.uniform(low=-30,high=30,size=(ntimes,nlats,nlons))\n",
    "# Write the data.  This writes the whole 3D netCDF variable all at once.\n",
    "temp[:,:,:] = data_arr  # Appends data along unlimited dimension\n",
    "print(\"-- Wrote data, temp.shape is now \", temp.shape)\n",
    "# read data back from variable (by slicing it), print min and max\n",
    "print(\"-- Min/Max values:\", temp[:,:,:].min(), temp[:,:,:].max())"
   ]
  },
  {
   "cell_type": "markdown",
   "metadata": {},
   "source": [
    "- You can just treat a netCDF Variable object like a numpy array and assign values to it.\n",
    "- Variables automatically grow along unlimited dimensions (unlike numpy arrays)\n",
    "- The above writes the whole 3D variable all at once,  but you can write it a slice at a time instead."
   ]
  },
  {
   "cell_type": "markdown",
   "metadata": {},
   "source": [
    "Note that we have not yet written any data to the time variable.  It automatically grew as we appended data along the time dimension to the variable `temp`, but the data is missing."
   ]
  },
  {
   "cell_type": "markdown",
   "metadata": {},
   "source": [
    "## Closing a netCDF file\n",
    "\n",
    "It's **important** to close a netCDF file you opened for writing:\n",
    "\n",
    "- flushes buffers to make sure all data gets written\n",
    "- releases memory resources used by open netCDF files"
   ]
  },
  {
   "cell_type": "code",
   "execution_count": 24,
   "metadata": {},
   "outputs": [
    {
     "name": "stdout",
     "output_type": "stream",
     "text": [
      "<class 'netCDF4._netCDF4.Dataset'>\n",
      "root group (NETCDF4_CLASSIC data model, file format HDF5):\n",
      "    description: this is just a netCDF smaple file.\n",
      "    created time: 2018-08-21 16:35:08.683884\n",
      "    version: 1.0\n",
      "    dimensions(sizes): lat(181), lon(360), time(3)\n",
      "    variables(dimensions): float32 \u001b[4mlatitude\u001b[0m(lat), float32 \u001b[4mlongitude\u001b[0m(lon), int32 \u001b[4mtime\u001b[0m(time), float64 \u001b[4mtemperature\u001b[0m(time,lat,lon)\n",
      "    groups: \n",
      "\n",
      "Dataset is closed!\n"
     ]
    }
   ],
   "source": [
    "# first print the Dataset object to see what we've got\n",
    "print(nc_file)\n",
    "# close the Dataset.\n",
    "nc_file.close(); print('Dataset is closed!')"
   ]
  },
  {
   "cell_type": "markdown",
   "metadata": {},
   "source": [
    "# *Advanced features\n",
    "\n",
    "So far we've only exercised features associated with the old netCDF version 3 data model.  netCDF version 4 adds a lot of new functionality that comes with the more flexible HDF5 storage layer.  \n",
    "\n",
    "Let's create a new file with `format='NETCDF4'` so we can try out some of these features."
   ]
  },
  {
   "cell_type": "code",
   "execution_count": 25,
   "metadata": {},
   "outputs": [
    {
     "name": "stdout",
     "output_type": "stream",
     "text": [
      "<class 'netCDF4._netCDF4.Dataset'>\n",
      "root group (NETCDF4 data model, file format HDF5):\n",
      "    dimensions(sizes): \n",
      "    variables(dimensions): \n",
      "    groups: \n",
      "\n"
     ]
    }
   ],
   "source": [
    "ncfile = netCDF4.Dataset('../OISST/new.nc','w',format='NETCDF4')\n",
    "print(ncfile)"
   ]
  },
  {
   "cell_type": "markdown",
   "metadata": {},
   "source": [
    "## Creating Groups\n",
    "\n",
    "netCDF version 4 added support for organizing data in hierarchical groups.\n",
    "\n",
    "- analagous to directories in a filesystem. \n",
    "- Groups serve as containers for variables, dimensions and attributes, as well as other groups. \n",
    "- A `netCDF4.Dataset` creates a special group, called the 'root group', which is similar to the root directory in a unix filesystem. \n",
    "\n",
    "- groups are created using the [`createGroup`](http://unidata.github.io/netcdf4-python/netCDF4.Dataset-class.html#createGroup) method.\n",
    "- takes a single argument (a string, which is the name of the Group instance).  This string is used as a key to access the group instances in the `groups` dictionary.\n",
    "\n",
    "Here we create two groups to hold data for two different model runs."
   ]
  },
  {
   "cell_type": "code",
   "execution_count": 26,
   "metadata": {},
   "outputs": [
    {
     "name": "stdout",
     "output_type": "stream",
     "text": [
      "('model_run1', <class 'netCDF4._netCDF4.Group'>\n",
      "group /model_run1:\n",
      "    dimensions(sizes): \n",
      "    variables(dimensions): \n",
      "    groups: \n",
      ")\n",
      "('model_run2', <class 'netCDF4._netCDF4.Group'>\n",
      "group /model_run2:\n",
      "    dimensions(sizes): \n",
      "    variables(dimensions): \n",
      "    groups: \n",
      ")\n"
     ]
    }
   ],
   "source": [
    "grp1 = ncfile.createGroup('model_run1')\n",
    "grp2 = ncfile.createGroup('model_run2')\n",
    "for grp in ncfile.groups.items():\n",
    "    print(grp)"
   ]
  },
  {
   "cell_type": "markdown",
   "metadata": {},
   "source": [
    "Create some dimensions in the root group."
   ]
  },
  {
   "cell_type": "code",
   "execution_count": 27,
   "metadata": {},
   "outputs": [],
   "source": [
    "lat_dim = ncfile.createDimension('lat', 73)     # latitude axis\n",
    "lon_dim = ncfile.createDimension('lon', 144)    # longitude axis\n",
    "time_dim = ncfile.createDimension('time', None) # unlimited axis (can be appended to)."
   ]
  },
  {
   "cell_type": "markdown",
   "metadata": {},
   "source": [
    "Now create a variable in grp1 and grp2.  The library will search recursively upwards in the group tree to find the dimensions (which in this case are defined one level up).\n",
    "\n",
    "- These variables are create with **zlib compression**, another nifty feature of netCDF 4. \n",
    "- The data are automatically compressed when data is written to the file, and uncompressed when the data is read.  \n",
    "- This can really save disk space, especially when used in conjunction with the [**least_significant_digit**](http://unidata.github.io/netcdf4-python/netCDF4.Dataset-class.html#createVariable) keyword argument, which causes the data to be quantized (truncated) before compression.  This makes the compression lossy, but more efficient."
   ]
  },
  {
   "cell_type": "code",
   "execution_count": 28,
   "metadata": {},
   "outputs": [
    {
     "name": "stdout",
     "output_type": "stream",
     "text": [
      "('model_run1', <class 'netCDF4._netCDF4.Group'>\n",
      "group /model_run1:\n",
      "    dimensions(sizes): \n",
      "    variables(dimensions): float64 \u001b[4mtemp\u001b[0m(time,lat,lon)\n",
      "    groups: \n",
      ")\n",
      "('model_run2', <class 'netCDF4._netCDF4.Group'>\n",
      "group /model_run2:\n",
      "    dimensions(sizes): \n",
      "    variables(dimensions): float64 \u001b[4mtemp\u001b[0m(time,lat,lon)\n",
      "    groups: \n",
      ")\n"
     ]
    }
   ],
   "source": [
    "temp1 = grp1.createVariable('temp',np.float64,('time','lat','lon'),zlib=True)\n",
    "temp2 = grp2.createVariable('temp',np.float64,('time','lat','lon'),zlib=True)\n",
    "for grp in ncfile.groups.items():  # shows that each group now contains 1 variable\n",
    "    print(grp)"
   ]
  },
  {
   "cell_type": "markdown",
   "metadata": {},
   "source": [
    "## Creating a variable with a compound data type\n",
    "\n",
    "- Compound data types map directly to numpy structured (a.k.a 'record' arrays). \n",
    "- Structured arrays are akin to C structs, or derived types in Fortran. \n",
    "- They allow for the construction of table-like structures composed of combinations of other data types, including other compound types. \n",
    "- Might be useful for representing multiple parameter values at each point on a grid, or at each time and space location for scattered (point) data. \n",
    "\n",
    "Here we create a variable with a compound data type to represent complex data (there is no native complex data type in netCDF). \n",
    "\n",
    "- The compound data type is created with the [`createCompoundType`](http://unidata.github.io/netcdf4-python/netCDF4.Dataset-class.html#createCompoundType) method."
   ]
  },
  {
   "cell_type": "code",
   "execution_count": 29,
   "metadata": {},
   "outputs": [
    {
     "name": "stdout",
     "output_type": "stream",
     "text": [
      "<class 'netCDF4._netCDF4.Variable'>\n",
      "compound cmplx_var(time, lat, lon)\n",
      "compound data type: {'names':['real','imag'], 'formats':['<f8','<f8'], 'offsets':[0,8], 'itemsize':16, 'aligned':True}\n",
      "path = /model_run1\n",
      "unlimited dimensions: time\n",
      "current shape = (1, 73, 144)\n",
      "\n",
      "{'names':['real','imag'], 'formats':['<f8','<f8'], 'offsets':[0,8], 'itemsize':16, 'aligned':True} (73, 144) (0.3877507, 0.620845)\n"
     ]
    }
   ],
   "source": [
    "# create complex128 numpy structured data type\n",
    "complex128 = np.dtype([('real',np.float64),('imag',np.float64)])\n",
    "# using this numpy dtype, create a netCDF compound data type object\n",
    "# the string name can be used as a key to access the datatype from the cmptypes dictionary.\n",
    "complex128_t = ncfile.createCompoundType(complex128,'complex128')\n",
    "# create a variable with this data type, write some data to it.\n",
    "cmplxvar = grp1.createVariable('cmplx_var',complex128_t,('time','lat','lon'))\n",
    "# write some data to this variable\n",
    "# first create some complex random data\n",
    "nlats = len(lat_dim); nlons = len(lon_dim)\n",
    "data_arr_cmplx = np.random.uniform(size=(nlats,nlons))+1.j*np.random.uniform(size=(nlats,nlons))\n",
    "# write this complex data to a numpy complex128 structured array\n",
    "data_arr = np.empty((nlats,nlons),complex128)\n",
    "data_arr['real'] = data_arr_cmplx.real; data_arr['imag'] = data_arr_cmplx.imag\n",
    "cmplxvar[0] = data_arr  # write the data to the variable (appending to time dimension)\n",
    "print(cmplxvar)\n",
    "data_out = cmplxvar[0] # read one value of data back from variable\n",
    "print(data_out.dtype, data_out.shape, data_out[0,0])"
   ]
  },
  {
   "cell_type": "markdown",
   "metadata": {},
   "source": [
    "## Creating a variable with a variable-length (vlen) data type\n",
    "\n",
    "netCDF 4 has support for variable-length or \"ragged\" arrays. These are arrays of variable length sequences having the same type. \n",
    "\n",
    "- To create a variable-length data type, use the [`createVLType`](http://unidata.github.io/netcdf4-python/netCDF4.Dataset-class.html#createVLType) method.\n",
    "- The numpy datatype of the variable-length sequences and the name of the new datatype must be specified."
   ]
  },
  {
   "cell_type": "code",
   "execution_count": 30,
   "metadata": {},
   "outputs": [],
   "source": [
    "vlen_t = ncfile.createVLType('i4', 'phony_vlen')"
   ]
  },
  {
   "cell_type": "markdown",
   "metadata": {},
   "source": [
    "A new variable can then be created using this datatype."
   ]
  },
  {
   "cell_type": "code",
   "execution_count": 31,
   "metadata": {},
   "outputs": [],
   "source": [
    "vlvar = grp2.createVariable('phony_vlen_var', vlen_t, ('time','lat','lon'))"
   ]
  },
  {
   "cell_type": "markdown",
   "metadata": {},
   "source": [
    "Since there is no native vlen datatype in numpy, vlen arrays are represented in python as object arrays (arrays of dtype `object`). \n",
    "\n",
    "- These are arrays whose elements are Python object pointers, and can contain any type of python object. \n",
    "- For this application, they must contain 1-D numpy arrays all of the same type but of varying length. \n",
    "- Fill with 1-D random numpy int64 arrays of random length between 1 and 10."
   ]
  },
  {
   "cell_type": "code",
   "execution_count": 32,
   "metadata": {},
   "outputs": [
    {
     "name": "stdout",
     "output_type": "stream",
     "text": [
      "<class 'netCDF4._netCDF4.Variable'>\n",
      "vlen phony_vlen_var(time, lat, lon)\n",
      "vlen data type: int32\n",
      "path = /model_run2\n",
      "unlimited dimensions: time\n",
      "current shape = (1, 73, 144)\n",
      "\n",
      "data =\n",
      " [[[array([6]) array([2, 6, 0, 7, 6, 5]) array([7, 9, 9, 7, 7, 2, 5]) ...\n",
      "   array([2]) array([6, 6, 0, 6, 4, 7]) array([3, 0, 8, 9, 3, 9, 9, 2])]\n",
      "  [array([5, 9, 6, 3, 1, 9, 8]) array([5, 1, 2, 7, 0, 6, 5, 5])\n",
      "   array([9, 3, 6, 9, 0, 8, 9, 2, 8]) ... array([9, 7, 1, 6])\n",
      "   array([9, 2]) array([2, 5, 7, 9, 1, 3, 5, 5, 1])]\n",
      "  [array([8, 5, 5, 5, 3, 7, 4, 9, 7]) array([7, 9, 8, 6, 2])\n",
      "   array([1, 3, 2, 1, 9, 9]) ... array([3, 7, 4, 4, 7])\n",
      "   array([1, 9, 2, 3, 4, 1, 1, 7]) array([9, 7])]\n",
      "  ...\n",
      "  [array([3, 4, 3, 7, 3, 1]) array([3, 5, 9, 0, 7, 9]) array([2, 5]) ...\n",
      "   array([4, 2, 9, 4, 9, 0, 2, 6]) array([7, 4, 8, 9, 6, 5, 6, 9, 4])\n",
      "   array([0, 0, 4, 1])]\n",
      "  [array([0]) array([5, 6]) array([2]) ...\n",
      "   array([8, 7, 1, 2, 0, 3, 8, 4, 1]) array([9, 9, 3, 5, 7, 4])\n",
      "   array([8, 0])]\n",
      "  [array([2, 8, 9, 8, 7]) array([4, 6, 0])\n",
      "   array([7, 2, 7, 6, 3, 7, 0, 2]) ... array([5, 5, 2])\n",
      "   array([2, 5, 9, 2]) array([1, 0, 5, 1, 4, 8, 1, 5, 1])]]]\n"
     ]
    }
   ],
   "source": [
    "vlen_data = np.empty((nlats,nlons),object)\n",
    "for i in range(nlons):\n",
    "    for j in range(nlats):\n",
    "        size = np.random.randint(1,10,size=1) # random length of sequence\n",
    "        vlen_data[j,i] = np.random.randint(0,10,size=size)# generate random sequence\n",
    "vlvar[0] = vlen_data # append along unlimited dimension (time)\n",
    "print(vlvar)\n",
    "print('data =\\n',vlvar[:])"
   ]
  },
  {
   "cell_type": "markdown",
   "metadata": {},
   "source": [
    "Close the Dataset and examine the contents with ncdump."
   ]
  },
  {
   "cell_type": "code",
   "execution_count": 33,
   "metadata": {},
   "outputs": [
    {
     "name": "stdout",
     "output_type": "stream",
     "text": [
      "netcdf ../OISST/new {\n",
      "types:\n",
      "  compound complex128 {\n",
      "    double real ;\n",
      "    double imag ;\n",
      "  }; // complex128\n",
      "  int(*) phony_vlen ;\n",
      "dimensions:\n",
      "\tlat = 73 ;\n",
      "\tlon = 144 ;\n",
      "\ttime = UNLIMITED ; // (1 currently)\n",
      "\n",
      "group: model_run1 {\n",
      "  variables:\n",
      "  \tdouble temp(time, lat, lon) ;\n",
      "  \tcomplex128 cmplx_var(time, lat, lon) ;\n",
      "  } // group model_run1\n",
      "\n",
      "group: model_run2 {\n",
      "  variables:\n",
      "  \tdouble temp(time, lat, lon) ;\n",
      "  \tphony_vlen phony_vlen_var(time, lat, lon) ;\n",
      "  } // group model_run2\n",
      "}\n"
     ]
    }
   ],
   "source": [
    "ncfile.close()\n",
    "!ncdump -h ../OISST/new.nc"
   ]
  },
  {
   "cell_type": "markdown",
   "metadata": {},
   "source": [
    "## Other interesting and useful projects using netcdf4-python\n",
    "\n",
    "- [Xray](http://xray.readthedocs.org/en/stable/): N-dimensional variant of the core [pandas](http://pandas.pydata.org) data structure that can operate on netcdf variables.\n",
    "- [Iris](http://scitools.org.uk/iris/): a data model to create a data abstraction layer which isolates analysis and visualisation code from data format specifics.  Uses netcdf4-python to access netcdf data (can also handle GRIB).\n",
    "- [Biggus](https://github.com/SciTools/biggus): Virtual large arrays (from netcdf variables) with lazy evaluation.\n",
    "- [cf-python](http://cfpython.bitbucket.org/): Implements the [CF](http://cfconventions.org) data model for the reading, writing and processing of data and metadata. "
   ]
  }
 ],
 "metadata": {
  "celltoolbar": "Raw Cell Format",
  "kernelspec": {
   "display_name": "Python 3",
   "language": "python",
   "name": "python3"
  },
  "language_info": {
   "codemirror_mode": {
    "name": "ipython",
    "version": 3
   },
   "file_extension": ".py",
   "mimetype": "text/x-python",
   "name": "python",
   "nbconvert_exporter": "python",
   "pygments_lexer": "ipython3",
   "version": "3.6.5"
  }
 },
 "nbformat": 4,
 "nbformat_minor": 1
}
